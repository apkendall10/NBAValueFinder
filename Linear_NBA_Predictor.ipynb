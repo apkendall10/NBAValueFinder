{
  "nbformat": 4,
  "nbformat_minor": 0,
  "metadata": {
    "colab": {
      "name": "Linear NBA Predictor.ipynb",
      "provenance": [],
      "collapsed_sections": [],
      "include_colab_link": true
    },
    "kernelspec": {
      "name": "python3",
      "display_name": "Python 3"
    }
  },
  "cells": [
    {
      "cell_type": "markdown",
      "metadata": {
        "id": "view-in-github",
        "colab_type": "text"
      },
      "source": [
        "<a href=\"https://colab.research.google.com/github/apkendall10/NBAValueFinder/blob/master/Linear_NBA_Predictor.ipynb\" target=\"_parent\"><img src=\"https://colab.research.google.com/assets/colab-badge.svg\" alt=\"Open In Colab\"/></a>"
      ]
    },
    {
      "cell_type": "code",
      "metadata": {
        "id": "_sdb8NrtU_pg",
        "colab_type": "code",
        "colab": {}
      },
      "source": [
        "#import and set up initial conditions\n",
        "\n",
        "from __future__ import print_function\n",
        "import math\n",
        "from IPython import display\n",
        "from matplotlib import cm\n",
        "from matplotlib import gridspec\n",
        "from matplotlib import pyplot as plt\n",
        "import numpy as np\n",
        "import pandas as pd\n",
        "from sklearn import metrics\n",
        "import tensorflow as tf\n",
        "from tensorflow.python.data import Dataset\n",
        "\n",
        "tf.logging.set_verbosity(tf.logging.ERROR)\n",
        "pd.options.display.max_rows = 10\n",
        "pd.options.display.float_format = '{:.1f}'.format\n",
        "\n",
        "from google.colab import drive\n",
        "drive.mount('/content/gdrive', force_remount=True)\n"
      ],
      "execution_count": 0,
      "outputs": []
    },
    {
      "cell_type": "code",
      "metadata": {
        "id": "ELpo9K5bPN2P",
        "colab_type": "code",
        "colab": {}
      },
      "source": [
        "def remove_dups(data,year):\n",
        "  uniqPlayer=pd.DataFrame()\n",
        "  temp_data=data.copy()\n",
        "  #temp_data.set_index(\"Rk\",inplace=True)\n",
        "  #print(temp_data.index)\n",
        "  firstTime=0\n",
        "  for rk in temp_data.index:\n",
        "    #print(rk)\n",
        "    player=temp_data.loc[rk,'Player']\n",
        "    #print(player)\n",
        "    player=player[player.find(\"\\\\\")+1:player.find(\"\\\\\")+10]\n",
        "    temp_data.loc[rk,'PlayerID']=player\n",
        "    player = player + str(year)\n",
        "    temp_data.loc[rk,'PlayerYID']= player\n",
        "    temp_data.loc[rk,'year']= year\n",
        "    temp_data.loc[rk,\"FPA\"]=( temp_data.loc[rk,\"PTS\"]+ temp_data.loc[rk,\"AST\"]+ temp_data.loc[rk,\"STL\"]+ temp_data.loc[rk,\"TRB\"]\n",
        "      + temp_data.loc[rk,\"BLK\"]- temp_data.loc[rk,\"TOV\"]- temp_data.loc[rk,\"FGA\"]- temp_data.loc[rk,\"FTA\"]+ temp_data.loc[rk,\"FG\"]+ temp_data.loc[rk,\"FT\"])/ temp_data.loc[rk,'G']\n",
        "    if player not in uniqPlayer.index:\n",
        "      if temp_data.loc[rk,'G']>10 and temp_data.loc[rk,'PTS']>50:\n",
        "        addData=temp_data.loc[rk:rk]\n",
        "        add=pd.DataFrame(addData, columns=temp_data.columns)\n",
        "        if firstTime==0:\n",
        "          uniqPlayer=add\n",
        "          uniqPlayer.set_index('PlayerYID',inplace=True)\n",
        "          firstTime=1\n",
        "        else:\n",
        "          add.set_index('PlayerYID',inplace=True)\n",
        "          uniqPlayer=uniqPlayer.append(add)\n",
        "  return uniqPlayer\n",
        "def get_year_data(year):\n",
        "  path='/content/gdrive/My Drive/Sports Data/' + str(year) + '-' + str(year+1) + ' Season.txt'\n",
        "  return remove_dups(pd.read_csv(path),year)\n",
        "def adjust_lockout_year(data):\n",
        "  for col in data.columns:\n",
        "    if(col not in ['Rk','Player','Pos','Age','Tm','FG%','3P%','2P%','eFG%','FT%','PlayerID','year','FPA']):\n",
        "      data[col]=data[col]*82/66\n",
        "  return data"
      ],
      "execution_count": 0,
      "outputs": []
    },
    {
      "cell_type": "code",
      "metadata": {
        "id": "s_OOlpQkYmyG",
        "colab_type": "code",
        "colab": {}
      },
      "source": [
        "data = get_year_data(2007)\n",
        "for year in range(2008,2016):\n",
        "  new_year=get_year_data(year)\n",
        "  if(year==2011):\n",
        "    new_year=adjust_lockout_year(new_year)\n",
        "  data = data.append(new_year)\n",
        "data_sub = get_year_data(2017)\n",
        "data2_sub = get_year_data(2018)\n",
        "data2 = get_year_data(2017)"
      ],
      "execution_count": 0,
      "outputs": []
    },
    {
      "cell_type": "code",
      "metadata": {
        "id": "7Js32soL15qZ",
        "colab_type": "code",
        "colab": {}
      },
      "source": [
        "def preprocess_year_link(init_data,sub_data):\n",
        "  data=init_data.copy()\n",
        "  data=data.append(sub_data)\n",
        "  init_data['next year fantasy points']=0\n",
        "  for player in init_data.index:\n",
        "    #print(player)\n",
        "    pid=data.loc[player,'PlayerID']\n",
        "    next_yid=pid + str(int(data.loc[player,'year']+1)) #remove +1 for testing\n",
        "    #print(next_yid)\n",
        "    if next_yid in data.index:\n",
        "      #print(next_yid)\n",
        "      init_data.loc[player,'next year fantasy points']=data.loc[next_yid,\"FPA\"]\n",
        "      #print(data.loc[next_yid,\"FPA\"])\n",
        "    else:\n",
        "      init_data=init_data.drop(player, axis=0)\n",
        "      #print(player)\n",
        "  return init_data\n",
        "data = preprocess_year_link(data,data_sub)\n",
        "data2 = preprocess_year_link(data2,data2_sub)"
      ],
      "execution_count": 0,
      "outputs": []
    },
    {
      "cell_type": "code",
      "metadata": {
        "id": "WjpmARbpPZuI",
        "colab_type": "code",
        "colab": {}
      },
      "source": [
        "def preprocess_features(data):\n",
        "  selected_features = data[\n",
        "    [\"Age\",\n",
        "    \"G\",\n",
        "     \"MP\",\n",
        "     \"GS\",\n",
        "     \"FG\",\n",
        "     \"FGA\",\n",
        "     #\"FG%\",\n",
        "     \"3P\",\n",
        "     \"3PA\",\n",
        "     #\"3P%\",\n",
        "     \"2P\",\n",
        "     \"2PA\",\n",
        "     \"2P%\",\n",
        "     #\"eFG%\",\n",
        "     \"FT\",\n",
        "     \"FTA\",\n",
        "     #\"FT%\",\n",
        "     \"ORB\",\n",
        "     \"DRB\",\n",
        "     \"TRB\",\n",
        "     \"AST\",\n",
        "     \"STL\",\n",
        "     \"BLK\",\n",
        "     \"TOV\",\n",
        "     \"PF\",\n",
        "     \"PTS\",\n",
        "     \"FPA\"\n",
        "    ]]\n",
        "  processed_features = selected_features.copy()\n",
        "  return processed_features\n",
        "\n",
        "def preprocess_targets(init_data,sub_data):\n",
        "  output_targets = pd.DataFrame()\n",
        "  output_targets[\"fantasy points\"] = init_data['next year fantasy points']\n",
        "  return output_targets"
      ],
      "execution_count": 0,
      "outputs": []
    },
    {
      "cell_type": "code",
      "metadata": {
        "id": "sdQSTkwtTdop",
        "colab_type": "code",
        "colab": {}
      },
      "source": [
        "# Create training and validation info.\n",
        "training_examples = preprocess_features(data)\n",
        "training_targets = preprocess_targets(data,data_sub)\n",
        "validation_examples = preprocess_features(data2)\n",
        "validation_targets = preprocess_targets(data2,data2_sub)"
      ],
      "execution_count": 0,
      "outputs": []
    },
    {
      "cell_type": "code",
      "metadata": {
        "id": "lOyup8SRpnfz",
        "colab_type": "code",
        "colab": {}
      },
      "source": [
        "#training_targets.sort_values(by='fantasy points')\n",
        "#training_examples.describe()"
      ],
      "execution_count": 0,
      "outputs": []
    },
    {
      "cell_type": "code",
      "metadata": {
        "id": "ztCgWuCcVViC",
        "colab_type": "code",
        "colab": {}
      },
      "source": [
        "def my_input_fn(features, targets, batch_size=1, shuffle=True, num_epochs=None):\n",
        "    \"\"\"Trains a linear regression model.\n",
        "  \n",
        "    Args:\n",
        "      features: pandas DataFrame of features\n",
        "      targets: pandas DataFrame of targets\n",
        "      batch_size: Size of batches to be passed to the model\n",
        "      shuffle: True or False. Whether to shuffle the data.\n",
        "      num_epochs: Number of epochs for which data should be repeated. None = repeat indefinitely\n",
        "    Returns:\n",
        "      Tuple of (features, labels) for next data batch\n",
        "    \"\"\"\n",
        "  \n",
        "    # Convert pandas data into a dict of np arrays.\n",
        "    features = {key:np.array(value) for key,value in dict(features).items()}                                            \n",
        " \n",
        "    # Construct a dataset, and configure batching/repeating.\n",
        "    ds = Dataset.from_tensor_slices((features,targets)) # warning: 2GB limit\n",
        "    ds = ds.batch(batch_size).repeat(num_epochs)\n",
        "    \n",
        "    # Shuffle the data, if specified.\n",
        "    if shuffle:\n",
        "      ds = ds.shuffle(10000)\n",
        "    \n",
        "    # Return the next batch of data.\n",
        "    features, labels = ds.make_one_shot_iterator().get_next()\n",
        "    return features, labels"
      ],
      "execution_count": 0,
      "outputs": []
    },
    {
      "cell_type": "code",
      "metadata": {
        "id": "7LNq7kJOaEcB",
        "colab_type": "code",
        "colab": {}
      },
      "source": [
        "def get_quantile_based_boundaries(feature_values, num_buckets):\n",
        "  boundaries = np.arange(1.0, num_buckets) / num_buckets\n",
        "  quantiles = feature_values.quantile(boundaries)\n",
        "  return [quantiles[q] for q in quantiles.keys()]\n",
        "def construct_feature_columns(input_features):\n",
        "  \"\"\"Construct the TensorFlow Feature Columns.\n",
        "\n",
        "  Args:\n",
        "    input_features: The names of the numerical input features to use.\n",
        "  Returns:\n",
        "    A set of feature columns\n",
        "    #\"Age\",    \"G\",     \"MP\",    \"GS\",     \"FG\",     \"FGA\",     \"FG%\",     \"3P\",\n",
        "     \"3PA\",     \"3P%\",     \"2P\",     \"2PA\",     \"2P%\",     \"eFG%\",     \"FT\",     \"FTA\",     \"FT%\",     \"ORB\",\n",
        "     \"DRB\",     \"TRB\",     \"AST\",     \"STL\",     \"BLK\",     \"TOV\",     \"PF\",     \"PTS\", \"FPA\"\n",
        "  \"\"\" \n",
        "  fpa = tf.feature_column.numeric_column(\"FPA\")\n",
        "  ast = tf.feature_column.numeric_column(\"AST\")\n",
        "  stl = tf.feature_column.numeric_column(\"STL\")\n",
        "  blk = tf.feature_column.numeric_column(\"BLK\")\n",
        "  tov = tf.feature_column.numeric_column(\"TOV\")\n",
        "\n",
        "# Divide age into 5 buckets.\n",
        "  age = tf.feature_column.numeric_column(\"Age\")\n",
        "  bucketized_age = tf.feature_column.bucketized_column(\n",
        "    age, boundaries=get_quantile_based_boundaries(\n",
        "      input_features[\"Age\"], 5))\n",
        "  \n",
        "  return set([fpa, ast, stl, blk, tov, bucketized_age])"
      ],
      "execution_count": 0,
      "outputs": []
    },
    {
      "cell_type": "code",
      "metadata": {
        "id": "4L2l2yEf_53x",
        "colab_type": "code",
        "colab": {}
      },
      "source": [
        "def train_model(\n",
        "    learning_rate,\n",
        "    steps,\n",
        "    batch_size,\n",
        "    training_examples,\n",
        "    training_targets,\n",
        "    validation_examples,\n",
        "    validation_targets):\n",
        "  \"\"\"Trains a neural network regression model.\n",
        "  \n",
        "  In addition to training, this function also prints training progress information,\n",
        "  as well as a plot of the training and validation loss over time.\n",
        "  \n",
        "  Args:\n",
        "    learning_rate: A `float`, the learning rate.\n",
        "    steps: A non-zero `int`, the total number of training steps. A training step\n",
        "      consists of a forward and backward pass using a single batch.\n",
        "    batch_size: A non-zero `int`, the batch size.\n",
        "    hidden_units: A `list` of int values, specifying the number of neurons in each layer.\n",
        "    training_examples: A `DataFrame` containing one or more columns from\n",
        "      `california_housing_dataframe` to use as input features for training.\n",
        "    training_targets: A `DataFrame` containing exactly one column from\n",
        "      `california_housing_dataframe` to use as target for training.\n",
        "    validation_examples: A `DataFrame` containing one or more columns from\n",
        "      `california_housing_dataframe` to use as input features for validation.\n",
        "    validation_targets: A `DataFrame` containing exactly one column from\n",
        "      `california_housing_dataframe` to use as target for validation.\n",
        "      \n",
        "  Returns:\n",
        "    A `DNNRegressor` object trained on the training data.\n",
        "  \"\"\"\n",
        "\n",
        "  periods = 10\n",
        "  steps_per_period = steps / periods\n",
        "  \n",
        "  # Create a LinearRegressor object.\n",
        "  my_optimizer = tf.train.GradientDescentOptimizer(learning_rate=learning_rate)\n",
        "  my_optimizer = tf.contrib.estimator.clip_gradients_by_norm(my_optimizer, 5.0)\n",
        "  linear_regressor = tf.estimator.LinearRegressor(\n",
        "      feature_columns=construct_feature_columns(training_examples),\n",
        "      optimizer=my_optimizer,\n",
        "  )\n",
        "  \n",
        "  # Create input functions.\n",
        "  training_input_fn = lambda: my_input_fn(training_examples, \n",
        "                                          training_targets[\"fantasy points\"], \n",
        "                                          batch_size=batch_size)\n",
        "  predict_training_input_fn = lambda: my_input_fn(training_examples, \n",
        "                                                  training_targets[\"fantasy points\"], \n",
        "                                                  num_epochs=1, \n",
        "                                                  shuffle=False)\n",
        "  predict_validation_input_fn = lambda: my_input_fn(validation_examples, \n",
        "                                                    validation_targets[\"fantasy points\"], \n",
        "                                                    num_epochs=1, \n",
        "                                                    shuffle=False)\n",
        "\n",
        "  # Train the model, but do so inside a loop so that we can periodically assess\n",
        "  # loss metrics.\n",
        "  print(\"Training model...\")\n",
        "  print(\"RMSE (on training data):\")\n",
        "  training_rmse = []\n",
        "  validation_rmse = []\n",
        "  for period in range (0, periods):\n",
        "    # Train the model, starting from the prior state.\n",
        "    linear_regressor.train(\n",
        "        input_fn=training_input_fn,\n",
        "        steps=steps_per_period\n",
        "    )\n",
        "    # Take a break and compute predictions.\n",
        "    training_predictions = linear_regressor.predict(input_fn=predict_training_input_fn)\n",
        "    training_predictions = np.array([item['predictions'][0] for item in training_predictions])\n",
        "    \n",
        "    validation_predictions = linear_regressor.predict(input_fn=predict_validation_input_fn)\n",
        "    validation_predictions = np.array([item['predictions'][0] for item in validation_predictions])\n",
        "    \n",
        "    # Compute training and validation loss.\n",
        "    training_root_mean_squared_error = math.sqrt(\n",
        "        metrics.mean_squared_error(training_predictions, training_targets))\n",
        "    validation_root_mean_squared_error = math.sqrt(\n",
        "        metrics.mean_squared_error(validation_predictions, validation_targets))\n",
        "    # Occasionally print the current loss.\n",
        "    print(\"  period %02d : %0.2f\" % (period, training_root_mean_squared_error))\n",
        "    # Add the loss metrics from this period to our list.\n",
        "    training_rmse.append(training_root_mean_squared_error)\n",
        "    validation_rmse.append(validation_root_mean_squared_error)\n",
        "  print(\"Model training finished.\")\n",
        "\n",
        "  # Output a graph of loss metrics over periods.\n",
        "  plt.ylabel(\"RMSE\")\n",
        "  plt.xlabel(\"Periods\")\n",
        "  plt.title(\"Root Mean Squared Error vs. Periods\")\n",
        "  plt.tight_layout()\n",
        "  plt.plot(training_rmse, label=\"training\")\n",
        "  plt.plot(validation_rmse, label=\"validation\")\n",
        "  plt.legend()\n",
        "\n",
        "  print(\"Final RMSE (on training data):   %0.2f\" % training_root_mean_squared_error)\n",
        "  print(\"Final RMSE (on validation data): %0.2f\" % validation_root_mean_squared_error)\n",
        "\n",
        "  return linear_regressor"
      ],
      "execution_count": 0,
      "outputs": []
    },
    {
      "cell_type": "code",
      "metadata": {
        "id": "N0cK3FW_GYbo",
        "colab_type": "code",
        "colab": {}
      },
      "source": [
        "linear_regressor = train_model(\n",
        "    learning_rate=0.001,\n",
        "    steps=50000,\n",
        "    batch_size=150,\n",
        "    training_examples=training_examples,\n",
        "    training_targets=training_targets,\n",
        "    validation_examples=validation_examples,\n",
        "    validation_targets=validation_targets)"
      ],
      "execution_count": 0,
      "outputs": []
    },
    {
      "cell_type": "code",
      "metadata": {
        "id": "dILiQuyzfD_n",
        "colab_type": "code",
        "colab": {}
      },
      "source": [
        "data_2018=get_year_data(2018)\n",
        "data_2018['next year fantasy points']=data_2018['FPA']\n",
        "predict_testing_input_fn = lambda: my_input_fn(preprocess_features(data_2018), \n",
        "                                               preprocess_targets(data_2018,data_2018)[\"fantasy points\"], \n",
        "                                               num_epochs=1, \n",
        "                                               shuffle=False)\n",
        "\n",
        "test_predictions = linear_regressor.predict(input_fn=predict_testing_input_fn)\n",
        "test_predictions = np.array([item['predictions'][0]*82 for item in test_predictions])\n",
        "prediction=pd.DataFrame(test_predictions, index=data_2018.index, columns=['fantasy points'])\n",
        "for player in prediction.index:\n",
        "  prediction.loc[player,'pos']=data_2018.loc[player,'Pos']\n",
        "  name=data_2018.loc[player,'Player']\n",
        "  name=name[0:(name.find(\"\\\\\"))]\n",
        "  prediction.loc[player,'Name']=name\n",
        "prediction.to_csv('/content/gdrive/My Drive/Sports Data/prediction_age.csv')"
      ],
      "execution_count": 0,
      "outputs": []
    },
    {
      "cell_type": "code",
      "metadata": {
        "id": "Sj8Ba4Tsh7ub",
        "colab_type": "code",
        "colab": {}
      },
      "source": [
        "data.to_csv('/content/gdrive/My Drive/Sports Data/data.csv')\n",
        "training_examples.to_csv('/content/gdrive/My Drive/Sports Data/examples.csv')\n",
        "training_targets.to_csv('/content/gdrive/My Drive/Sports Data/targets.csv')"
      ],
      "execution_count": 0,
      "outputs": []
    },
    {
      "cell_type": "code",
      "metadata": {
        "id": "sLmc0MMsFdD-",
        "colab_type": "code",
        "colab": {}
      },
      "source": [
        "print([linear_regressor.get_variable_value(my_var) for my_var in linear_regressor.get_variable_names()][1:])\n",
        "linear_regressor.get_variable_names()"
      ],
      "execution_count": 0,
      "outputs": []
    },
    {
      "cell_type": "markdown",
      "metadata": {
        "id": "vowsDPZ7AK5c",
        "colab_type": "text"
      },
      "source": [
        ""
      ]
    }
  ]
}